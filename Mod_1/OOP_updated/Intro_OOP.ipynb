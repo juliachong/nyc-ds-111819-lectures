{
 "cells": [
  {
   "cell_type": "markdown",
   "metadata": {
    "slideshow": {
     "slide_type": "slide"
    }
   },
   "source": [
    "### Quick Question|\n",
    "\n",
    "Why do we write functions?"
   ]
  },
  {
   "cell_type": "markdown",
   "metadata": {
    "slideshow": {
     "slide_type": "slide"
    }
   },
   "source": [
    "# OOP: Object Oriented Programming"
   ]
  },
  {
   "cell_type": "markdown",
   "metadata": {
    "slideshow": {
     "slide_type": "subslide"
    }
   },
   "source": [
    "## Aim\n",
    "\n",
    "- Differentiate between a function, class, and package.\n",
    "- Differentiate between a function, method, and attribute.\n",
    "- Create a class with a method and attribute attached, and instantiate an instance of the class.\n"
   ]
  },
  {
   "cell_type": "markdown",
   "metadata": {
    "slideshow": {
     "slide_type": "subslide"
    }
   },
   "source": [
    "## Agenda\n",
    "\n",
    "- Review Functions\n",
    "- Introduce Modularity in Python\n",
    "- Make a class\n",
    "- Use a module\n",
    "- Idenitfy a package"
   ]
  },
  {
   "cell_type": "markdown",
   "metadata": {
    "slideshow": {
     "slide_type": "slide"
    }
   },
   "source": [
    "Functions help us to make our code DRY.\n",
    "\n",
    "### Don't Repeat Yourself"
   ]
  },
  {
   "cell_type": "markdown",
   "metadata": {
    "slideshow": {
     "slide_type": "slide"
    }
   },
   "source": [
    "### This is Tired"
   ]
  },
  {
   "cell_type": "code",
   "execution_count": 1,
   "metadata": {},
   "outputs": [],
   "source": [
    "import datetime\n"
   ]
  },
  {
   "cell_type": "code",
   "execution_count": null,
   "metadata": {
    "slideshow": {
     "slide_type": "fragment"
    }
   },
   "outputs": [],
   "source": [
    "# Subject data = [weight_kg, height_m]\n",
    "subject1 = [80, 1.62]\n",
    "subject2 = [69, 1.53]\n",
    "subject3 = [80, 1.66]\n",
    "subject4 = [80, 1.79]\n",
    "subject5 = [72, 1.60]\n",
    "\n",
    "#calculate BMI for subject 1\n",
    "bmi_subject1 = int(subject1[0] / subject1[1]**2)\n",
    "print(\"bmi {} = {}\".format('subject1', bmi_subject1))\n",
    "\n",
    "#calculate BMI for subject 2\n",
    "bmi_subject2 = int(subject2[0] / subject2[1]**2)\n",
    "print(\"bmi {} = {}\".format('subject2', bmi_subject2))\n",
    "\n",
    "#calculate BMI for subject 3\n",
    "bmi_subject3 = int(subject3[0] / subject3[1]**2)\n",
    "print(\"bmi {} = {}\".format('subject3', bmi_subject3))\n",
    "\n",
    "#calculate BMI for subject 4\n",
    "bmi_subject4 = int(subject4[0] / subject4[1]**2)\n",
    "print(\"bmi {} = {}\".format('subject4', bmi_subject4))\n",
    "\n",
    "#calculate BMI for subject 5\n",
    "bmi_subject5 = int(subject5[0] / subject5[1]**2)\n",
    "print(\"bmi {} = {}\".format('subject5', bmi_subject5))\n"
   ]
  },
  {
   "cell_type": "markdown",
   "metadata": {
    "slideshow": {
     "slide_type": "subslide"
    }
   },
   "source": [
    "### So Wired!\n",
    "\n",
    "Instead of rewriting the code 5 times, lets write one function and call the function. "
   ]
  },
  {
   "cell_type": "code",
   "execution_count": 1,
   "metadata": {
    "slideshow": {
     "slide_type": "fragment"
    }
   },
   "outputs": [
    {
     "name": "stdout",
     "output_type": "stream",
     "text": [
      "bmi subject1 = 30\n",
      "bmi subject2 = 29\n",
      "bmi subject3 = 29\n",
      "bmi subject4 = 24\n",
      "bmi subject5 = 28\n"
     ]
    }
   ],
   "source": [
    "def bmi_calc(sub_num, weight_kg, height_m):\n",
    "    \"\"\"Calculate BMI from weight in kg and height in meters\"\"\"\n",
    "    bmi = int(weight_kg / height_m**2)\n",
    "    subject = 'subject' + str(sub_num)\n",
    "    print(\"bmi {} = {}\".format(subject, bmi))\n",
    "\n",
    "# Subject data = [weight_kg, height_m]\n",
    "subjects =[[1, 80, 1.62], # subject1\n",
    "           [2, 69, 1.53], # subject2\n",
    "           [3, 80, 1.66], # subject3\n",
    "           [4, 80, 1.79], # subject4\n",
    "           [5, 72, 1.60]] # subject5\n",
    "\n",
    "for sub in subjects:\n",
    "    bmi_calc(sub[0], sub[1], sub[2])"
   ]
  },
  {
   "cell_type": "markdown",
   "metadata": {
    "slideshow": {
     "slide_type": "slide"
    }
   },
   "source": [
    "![mayes](mayes.png)"
   ]
  },
  {
   "cell_type": "markdown",
   "metadata": {
    "slideshow": {
     "slide_type": "slide"
    }
   },
   "source": [
    "## Modularity \n",
    "Modularity is the power to make self-contained, reusable pieces which can be combined in new ways to solve different problems. \n",
    "\n"
   ]
  },
  {
   "cell_type": "markdown",
   "metadata": {
    "slideshow": {
     "slide_type": "subslide"
    }
   },
   "source": [
    "There are several advantages to modularizing code in a large application:"
   ]
  },
  {
   "cell_type": "markdown",
   "metadata": {
    "slideshow": {
     "slide_type": "fragment"
    }
   },
   "source": [
    "- **Simplicity:** Rather than focusing on the entire problem at hand, a module typically focuses on one relatively small portion of the problem. If you’re working on a single module, you’ll have a smaller problem domain to wrap your head around. "
   ]
  },
  {
   "cell_type": "markdown",
   "metadata": {
    "slideshow": {
     "slide_type": "fragment"
    }
   },
   "source": [
    "\n",
    "- **Maintainability:** Modules are typically designed so that they enforce logical boundaries between different problem domains. If modules are written in a way that minimizes interdependency, there is decreased likelihood that modifications to a single module will have an impact on other parts of the program. This makes it more viable for a team of many programmers to work collaboratively on a large application."
   ]
  },
  {
   "cell_type": "markdown",
   "metadata": {
    "slideshow": {
     "slide_type": "fragment"
    }
   },
   "source": [
    "- **Reusability:** Functionality defined in a single module can be easily reused by other parts of the application. This eliminates the need to recreate duplicate code."
   ]
  },
  {
   "cell_type": "markdown",
   "metadata": {
    "slideshow": {
     "slide_type": "fragment"
    }
   },
   "source": [
    "- **Scoping:** Modules typically define a separate namespace, which helps avoid collisions between identifiers in different areas of a program."
   ]
  },
  {
   "cell_type": "markdown",
   "metadata": {
    "slideshow": {
     "slide_type": "subslide"
    }
   },
   "source": [
    "Python also gives us several powerful modularization mechanisms.\n",
    "\n",
    "- Functions\n",
    "- Classes\n",
    "- Modules\n",
    "- Packages"
   ]
  },
  {
   "cell_type": "markdown",
   "metadata": {
    "slideshow": {
     "slide_type": "slide"
    }
   },
   "source": [
    "OOP uses the concept of objects and classes."
   ]
  },
  {
   "cell_type": "code",
   "execution_count": null,
   "metadata": {},
   "outputs": [],
   "source": [
    "dictionary = {'test': \"Data science rocks!\",\n",
    "              'learning': 'is fun!'}"
   ]
  },
  {
   "cell_type": "markdown",
   "metadata": {},
   "source": [
    "When we create an \"object\", using the blue-print of a _class_, even when it is **empty** that is called _initializing_ the object. \n",
    "\n",
    "Even though it is empty, it is still an _object_ of _class_ dictionary.\n"
   ]
  },
  {
   "cell_type": "code",
   "execution_count": null,
   "metadata": {},
   "outputs": [],
   "source": [
    "type(dictionary)"
   ]
  },
  {
   "cell_type": "code",
   "execution_count": null,
   "metadata": {},
   "outputs": [],
   "source": [
    "dir(dictionary)"
   ]
  },
  {
   "cell_type": "markdown",
   "metadata": {
    "slideshow": {
     "slide_type": "subslide"
    }
   },
   "source": [
    "### Classes\n",
    "\n",
    " A class can be thought of as a 'blueprint' for objects. These can have their own attributes (characteristics they possess), and methods (actions they perform)."
   ]
  },
  {
   "cell_type": "markdown",
   "metadata": {
    "slideshow": {
     "slide_type": "subslide"
    }
   },
   "source": [
    "Classes/Objects can have **attributes** that are essentially variables associated with the class. \n",
    "\n",
    "Classes/Objects can also contain methods. **Methods** in objects are functions that belongs to the object.\n",
    "\n"
   ]
  },
  {
   "cell_type": "markdown",
   "metadata": {
    "slideshow": {
     "slide_type": "subslide"
    }
   },
   "source": [
    "Classes have a function called __init__(), which is always executed when the class is being initiated."
   ]
  },
  {
   "cell_type": "code",
   "execution_count": 3,
   "metadata": {
    "slideshow": {
     "slide_type": "fragment"
    }
   },
   "outputs": [],
   "source": [
    "\n",
    "#creating a class called Cohort\n",
    "class Cohort:\n",
    "    #every class must begin with this init function\n",
    "    def __init__(self):\n",
    "        # whenever you initalize this class, you must run this function first - __init__\n",
    "        # you must begin with __init__ for every class\n",
    "        self.start_date = datetime.datetime.now().strftime(\"%m-%d-%Y\")\n",
    "        # every time you initiate Cohort, you initialize start_date.\n",
    "        \n",
    "\n"
   ]
  },
  {
   "cell_type": "code",
   "execution_count": 6,
   "metadata": {},
   "outputs": [],
   "source": [
    "new_class = Cohort()\n"
   ]
  },
  {
   "cell_type": "code",
   "execution_count": 8,
   "metadata": {},
   "outputs": [
    {
     "data": {
      "text/plain": [
       "'11-21-2019'"
      ]
     },
     "execution_count": 8,
     "metadata": {},
     "output_type": "execute_result"
    }
   ],
   "source": [
    "new_class.start_date"
   ]
  },
  {
   "cell_type": "markdown",
   "metadata": {},
   "source": [
    "### Quick knowledge check:\n",
    "\n",
    "**What is the appropriate sequence of these words?  A variable becomes an _______ when you _______ a _______ .**\n",
    " - A: Initialize\n",
    " - B: Class\n",
    " - C: Object"
   ]
  },
  {
   "cell_type": "markdown",
   "metadata": {},
   "source": [
    "### What is the init method?\n",
    "\n",
    "The __init__ method is roughly what represents a constructor in Python. When you call A() Python creates an object for you, and passes it as the first parameter to the __init__ method. Any additional parameters (e.g., A(24, 'Hello')) will also get passed as arguments--in this case causing an exception to be raised, since the constructor isn't expecting them."
   ]
  },
  {
   "cell_type": "code",
   "execution_count": 11,
   "metadata": {
    "slideshow": {
     "slide_type": "fragment"
    }
   },
   "outputs": [],
   "source": [
    "#adding more attributes to the Cohort class\n",
    "\n",
    "# A variable becomes an object when you initialize a class.\n",
    "\n",
    "class Cohort:\n",
    "    def __init__(self, students, program, start_date=datetime.datetime.now().strftime(\"%m-%d-%Y\") ):\n",
    "    # every time this class is run, we have arguments we pass through using the __init__ function.\n",
    "        self.start_date = start_date\n",
    "        self.students = students\n",
    "        self.program = program\n",
    "        self.name = program +\"_\"+self.start_date\n",
    "\n",
    "# function/method - expected to do something\n",
    "# attributes - regurgitates data"
   ]
  },
  {
   "cell_type": "code",
   "execution_count": 12,
   "metadata": {},
   "outputs": [],
   "source": [
    "student_list = [\"John\", \"Ariel\", \"Jace\", \"Romea\", \"Irina\"]\n",
    "\n",
    "dsc = Cohort(student_list, 'DS'  )\n"
   ]
  },
  {
   "cell_type": "code",
   "execution_count": 14,
   "metadata": {},
   "outputs": [
    {
     "data": {
      "text/plain": [
       "['John', 'Ariel', 'Jace', 'Romea', 'Irina']"
      ]
     },
     "execution_count": 14,
     "metadata": {},
     "output_type": "execute_result"
    }
   ],
   "source": [
    "dsc.start_date\n",
    "dsc.students"
   ]
  },
  {
   "cell_type": "markdown",
   "metadata": {},
   "source": [
    "### Adding Methods\n",
    "\n",
    "Now we want to add functions to our class. These are referred to as methods."
   ]
  },
  {
   "cell_type": "code",
   "execution_count": 18,
   "metadata": {},
   "outputs": [],
   "source": [
    "class Cohort:\n",
    "    def __init__(self, students, program):\n",
    "        self.start_date = datetime.datetime.now().strftime(\"%m-%d-%Y\")\n",
    "        self.students = students\n",
    "        self.program = program\n",
    "        self.name = program +\"_\"+self.start_date\n",
    "\n",
    "            \n",
    "    def add_student(self, student):\n",
    "        self.students.append(student)\n",
    "        \n",
    "    def make_pairs(self):\n",
    "        s_list = self.students\n",
    "        r_list = s_list[::-1]\n",
    "        return list(zip(s_list, r_list))\n"
   ]
  },
  {
   "cell_type": "code",
   "execution_count": 27,
   "metadata": {
    "slideshow": {
     "slide_type": "fragment"
    }
   },
   "outputs": [
    {
     "name": "stdout",
     "output_type": "stream",
     "text": [
      "['John', 'Ariel', 'Jace', 'Romea', 'Irina', 'Amalia', 'Amalia', 'SeanAbu', 'Amalia', 'Amalia']\n",
      "['John', 'Ariel', 'Jace', 'Romea', 'Irina', 'Amalia', 'Amalia', 'SeanAbu', 'Amalia', 'Amalia', 'Amalia']\n"
     ]
    }
   ],
   "source": [
    "dsc = Cohort(student_list, 'DS' )\n",
    "\n",
    "print(dsc.students)\n",
    "dsc.add_student('Amalia')\n",
    "print(dsc.students)"
   ]
  },
  {
   "cell_type": "code",
   "execution_count": 28,
   "metadata": {},
   "outputs": [
    {
     "name": "stdout",
     "output_type": "stream",
     "text": [
      "['John', 'Ariel', 'Jace', 'Romea', 'Irina', 'Amalia', 'Amalia', 'SeanAbu', 'Amalia', 'Amalia', 'Amalia', 'SeanAbu']\n"
     ]
    }
   ],
   "source": [
    "dsc.students.append('SeanAbu')\n",
    "print(dsc.students)"
   ]
  },
  {
   "cell_type": "code",
   "execution_count": 33,
   "metadata": {},
   "outputs": [
    {
     "data": {
      "text/plain": [
       "'SeanAbu'"
      ]
     },
     "execution_count": 33,
     "metadata": {},
     "output_type": "execute_result"
    }
   ],
   "source": [
    "dsc.students.pop()"
   ]
  },
  {
   "cell_type": "code",
   "execution_count": 34,
   "metadata": {
    "slideshow": {
     "slide_type": "fragment"
    }
   },
   "outputs": [
    {
     "data": {
      "text/plain": [
       "[('John', 'Amalia'),\n",
       " ('Ariel', 'Amalia'),\n",
       " ('Jace', 'Irina'),\n",
       " ('Romea', 'Romea'),\n",
       " ('Irina', 'Jace'),\n",
       " ('Amalia', 'Ariel'),\n",
       " ('Amalia', 'John')]"
      ]
     },
     "execution_count": 34,
     "metadata": {},
     "output_type": "execute_result"
    }
   ],
   "source": [
    "dsc.make_pairs()"
   ]
  },
  {
   "cell_type": "markdown",
   "metadata": {
    "slideshow": {
     "slide_type": "subslide"
    }
   },
   "source": [
    "### The self Parameter\n",
    "The self parameter is a reference to the class itself, and is used to access variables that belongs to the class.\n",
    "\n",
    "It does not have to be named self , you can call it whatever you like, but it has to be the first parameter of any function in the class:"
   ]
  },
  {
   "cell_type": "code",
   "execution_count": null,
   "metadata": {
    "slideshow": {
     "slide_type": "fragment"
    }
   },
   "outputs": [],
   "source": [
    "class cohort:\n",
    "    def __init__(something, students, program):\n",
    "        something.start_date = datetime.datetime.now().strftime(\"%m-%d-%Y\")\n",
    "        something.students = students\n",
    "        something.program = program\n",
    "        something.name = program +\"_\"+something.start_date\n",
    "\n",
    "            \n",
    "    def add_student(something, student):\n",
    "        something.students.append(student)\n",
    "        \n",
    "    def make_pairs(something):\n",
    "        s_list = something.students\n",
    "        r_list = s_list[::-1]\n",
    "        return list(zip(s_list, r_list))\n",
    "\n",
    "dsc = cohort(student_list, 'DS' )\n",
    "\n",
    "dsc.students"
   ]
  },
  {
   "cell_type": "markdown",
   "metadata": {},
   "source": [
    "**Task**: Make a pizza class<br>\n",
    "\n",
    "- Pizza should take a list of toppings and the size of the pizza when instantiated\n",
    "- Pizza should have an attribute `toppings` and `size` that stores the values. \n",
    "\n",
    "\n",
    "\n"
   ]
  },
  {
   "cell_type": "code",
   "execution_count": 123,
   "metadata": {},
   "outputs": [
    {
     "ename": "SyntaxError",
     "evalue": "invalid syntax (<ipython-input-123-69a742b353e2>, line 33)",
     "output_type": "error",
     "traceback": [
      "\u001b[0;36m  File \u001b[0;32m\"<ipython-input-123-69a742b353e2>\"\u001b[0;36m, line \u001b[0;32m33\u001b[0m\n\u001b[0;31m    self.done_adjusting_order = True:\u001b[0m\n\u001b[0m                                    ^\u001b[0m\n\u001b[0;31mSyntaxError\u001b[0m\u001b[0;31m:\u001b[0m invalid syntax\n"
     ]
    }
   ],
   "source": [
    "\n",
    "class Pizza:\n",
    "    def __init__(self, toppings, size, order_status):\n",
    "    # self = create a name that you will set equal to the class Pizza()\n",
    "    # ex// my_pizza = Pizza(xxx, yyy)\n",
    "    # toppings = a list that you input into the Pizza() class.\n",
    "    # size = a size that you input into the Pizza() class.\n",
    "        self.toppings = toppings\n",
    "        # we now use the name you created (my_pizza) to use attribute, .toppings.\n",
    "        # self.toppings will regurgitate toppings, the variable you put into the class.\n",
    "        self.size = size\n",
    "        self.order_status = None\n",
    "        # same w/ self.size.\n",
    "    # basically, the __init__() function defines the basic, most important things.\n",
    "    # defines 'self', which creates a unique identifier for what we're passing through.\n",
    "    # creates a baseline function for toppings, self.toppings, which just stores toppings.\n",
    "    \n",
    "    def add_topping(self, topping):\n",
    "    # add_topping needs a specifier that tells the function which thing we are adding a \n",
    "    # topping to.\n",
    "    # add_topping needs you to specify which topping you would like to add to\n",
    "    # the self.toppings list.\n",
    "        self.toppings.append(topping)\n",
    "        \n",
    "    def print_toppings(self):\n",
    "    # we simply want to print toppings. we already have a function that stores the toppings\n",
    "    # that we want printed, so the only thing we need defined for us is the self variable.\n",
    "        print(self.toppings)\n",
    "    \n",
    "    def remove_toppings(self):\n",
    "        return self.toppings.pop()\n",
    "    \n",
    "        \n",
    "    \n",
    "my_pizza.order_status\n",
    "#- Pizza should have an attribute \"order_status\" that starts as equaling `none`. order_status should change depending on the methods:\n",
    " #- `done_adjusting_order`\n",
    " #- `preparing`\n",
    " #- `delivering`\n",
    " #- `delivered` \n",
    " #- order_status, when called, should return in the form of a sentence. \n",
    "    \n",
    "    \n",
    "        \n",
    "        "
   ]
  },
  {
   "cell_type": "markdown",
   "metadata": {},
   "source": [
    "- Pizza should have methods `.add_topping`, `print_toppings`, and `remove_topping`\n"
   ]
  },
  {
   "cell_type": "code",
   "execution_count": 120,
   "metadata": {},
   "outputs": [
    {
     "name": "stdout",
     "output_type": "stream",
     "text": [
      "['anchovies', 'pepperoni', 'mushroom', 'sausage', 'pineapple']\n"
     ]
    }
   ],
   "source": [
    "my_pizza = Pizza(['anchovies', 'pepperoni','mushroom', 'sausage', 'pineapple'], 'personal')\n",
    "\n",
    "my_pizza.add_topping('bacon')\n",
    "\n",
    "my_pizza.remove_toppings()\n",
    "\n",
    "my_pizza.print_toppings()"
   ]
  },
  {
   "cell_type": "markdown",
   "metadata": {},
   "source": [
    "- Create an instance of a pizza"
   ]
  },
  {
   "cell_type": "code",
   "execution_count": 2,
   "metadata": {},
   "outputs": [],
   "source": [
    "# your code here"
   ]
  },
  {
   "cell_type": "markdown",
   "metadata": {},
   "source": [
    "- Add a topping to the list and print toppings.\n"
   ]
  },
  {
   "cell_type": "code",
   "execution_count": 3,
   "metadata": {},
   "outputs": [],
   "source": [
    "# your code here"
   ]
  },
  {
   "cell_type": "markdown",
   "metadata": {},
   "source": [
    "- Remove a topping from the list and print toppings"
   ]
  },
  {
   "cell_type": "code",
   "execution_count": 4,
   "metadata": {},
   "outputs": [],
   "source": [
    "# your code here"
   ]
  },
  {
   "cell_type": "markdown",
   "metadata": {},
   "source": [
    "**Extra Credit**\n",
    "\n",
    "- Pizza should have an attribute \"order_status\" that starts as equaling `none`. order_status should change depending on the methods:\n",
    " - `done_adjusting_order`\n",
    " - `preparing`\n",
    " - `delivering`\n",
    " - `delivered` \n",
    " - order_status, when called, should return in the form of a sentence. "
   ]
  },
  {
   "cell_type": "code",
   "execution_count": null,
   "metadata": {},
   "outputs": [],
   "source": []
  },
  {
   "cell_type": "markdown",
   "metadata": {},
   "source": [
    "## Python Inheritance\n",
    "Inheritance allows us to define a class that inherits all the methods and properties from another class.\n",
    "\n",
    "**Parent class** is the class being inherited from, also called base class.\n",
    "\n",
    "**Child class** is the class that inherits from another class, also called derived class."
   ]
  },
  {
   "cell_type": "code",
   "execution_count": 22,
   "metadata": {},
   "outputs": [],
   "source": [
    "#create a class specifically for DS cohors\n",
    "class Ds_cohort(cohort):\n",
    "    def __init__(self, students):\n",
    "        #uses the Cohort class and sets the program type to 'DS'\n",
    "        Cohort.__init__(self, students, 'DS')\n",
    "        \n",
    "    "
   ]
  },
  {
   "cell_type": "code",
   "execution_count": 20,
   "metadata": {},
   "outputs": [
    {
     "name": "stdout",
     "output_type": "stream",
     "text": [
      "<class 'str'>\n"
     ]
    }
   ],
   "source": [
    "new_ds= Ds_cohort(student_list)"
   ]
  },
  {
   "cell_type": "code",
   "execution_count": 23,
   "metadata": {},
   "outputs": [
    {
     "data": {
      "text/plain": [
       "'DS'"
      ]
     },
     "execution_count": 23,
     "metadata": {},
     "output_type": "execute_result"
    }
   ],
   "source": [
    "new_ds.program"
   ]
  },
  {
   "cell_type": "markdown",
   "metadata": {
    "slideshow": {
     "slide_type": "slide"
    }
   },
   "source": [
    "## Modules\n",
    "\n",
    "A file containing a set of functions you want to include in your application."
   ]
  },
  {
   "cell_type": "code",
   "execution_count": null,
   "metadata": {
    "slideshow": {
     "slide_type": "fragment"
    }
   },
   "outputs": [],
   "source": [
    "import example_mod as mod"
   ]
  },
  {
   "cell_type": "code",
   "execution_count": null,
   "metadata": {
    "slideshow": {
     "slide_type": "fragment"
    }
   },
   "outputs": [],
   "source": [
    "mod.s"
   ]
  },
  {
   "cell_type": "markdown",
   "metadata": {
    "slideshow": {
     "slide_type": "fragment"
    }
   },
   "source": [
    "Look in the example_mod.py file and find a variable or function in that file. \n",
    "\n",
    "Then write a line of code utilizing that variable/function."
   ]
  },
  {
   "cell_type": "code",
   "execution_count": null,
   "metadata": {},
   "outputs": [],
   "source": [
    "mod.Foo()"
   ]
  },
  {
   "cell_type": "markdown",
   "metadata": {
    "slideshow": {
     "slide_type": "slide"
    }
   },
   "source": [
    "## Packages \n",
    "\n",
    "Suppose you have developed a very large application that includes many modules. As the number of modules grows, it becomes difficult to keep track of them all if they are dumped into one location. This is particularly so if they have similar names or functionality. You might wish for a means of grouping and organizing them.\n"
   ]
  },
  {
   "cell_type": "markdown",
   "metadata": {
    "slideshow": {
     "slide_type": "subslide"
    }
   },
   "source": [
    "Packages are namespaces which contain multiple packages and modules themselves. They are simply directories, but with a twist."
   ]
  },
  {
   "cell_type": "markdown",
   "metadata": {
    "slideshow": {
     "slide_type": "fragment"
    }
   },
   "source": [
    "<img src=\"pkg_direct.png\" width=\"200\"/>\n"
   ]
  },
  {
   "cell_type": "code",
   "execution_count": 91,
   "metadata": {
    "slideshow": {
     "slide_type": "subslide"
    }
   },
   "outputs": [
    {
     "data": {
      "text/html": [
       "<div>\n",
       "<style scoped>\n",
       "    .dataframe tbody tr th:only-of-type {\n",
       "        vertical-align: middle;\n",
       "    }\n",
       "\n",
       "    .dataframe tbody tr th {\n",
       "        vertical-align: top;\n",
       "    }\n",
       "\n",
       "    .dataframe thead th {\n",
       "        text-align: right;\n",
       "    }\n",
       "</style>\n",
       "<table border=\"1\" class=\"dataframe\">\n",
       "  <thead>\n",
       "    <tr style=\"text-align: right;\">\n",
       "      <th></th>\n",
       "      <th>Gender</th>\n",
       "      <th>Height</th>\n",
       "      <th>Weight</th>\n",
       "    </tr>\n",
       "  </thead>\n",
       "  <tbody>\n",
       "    <tr>\n",
       "      <td>9986</td>\n",
       "      <td>Female</td>\n",
       "      <td>63.352698</td>\n",
       "      <td>141.906510</td>\n",
       "    </tr>\n",
       "    <tr>\n",
       "      <td>9987</td>\n",
       "      <td>Female</td>\n",
       "      <td>65.610243</td>\n",
       "      <td>151.169475</td>\n",
       "    </tr>\n",
       "    <tr>\n",
       "      <td>9988</td>\n",
       "      <td>Female</td>\n",
       "      <td>59.538729</td>\n",
       "      <td>121.244876</td>\n",
       "    </tr>\n",
       "    <tr>\n",
       "      <td>9989</td>\n",
       "      <td>Female</td>\n",
       "      <td>60.955084</td>\n",
       "      <td>95.686674</td>\n",
       "    </tr>\n",
       "    <tr>\n",
       "      <td>9990</td>\n",
       "      <td>Female</td>\n",
       "      <td>63.179498</td>\n",
       "      <td>141.266100</td>\n",
       "    </tr>\n",
       "    <tr>\n",
       "      <td>9991</td>\n",
       "      <td>Female</td>\n",
       "      <td>62.636675</td>\n",
       "      <td>102.853563</td>\n",
       "    </tr>\n",
       "    <tr>\n",
       "      <td>9992</td>\n",
       "      <td>Female</td>\n",
       "      <td>62.077832</td>\n",
       "      <td>138.691680</td>\n",
       "    </tr>\n",
       "    <tr>\n",
       "      <td>9993</td>\n",
       "      <td>Female</td>\n",
       "      <td>60.030434</td>\n",
       "      <td>97.687432</td>\n",
       "    </tr>\n",
       "    <tr>\n",
       "      <td>9994</td>\n",
       "      <td>Female</td>\n",
       "      <td>59.098250</td>\n",
       "      <td>110.529686</td>\n",
       "    </tr>\n",
       "    <tr>\n",
       "      <td>9995</td>\n",
       "      <td>Female</td>\n",
       "      <td>66.172652</td>\n",
       "      <td>136.777454</td>\n",
       "    </tr>\n",
       "    <tr>\n",
       "      <td>9996</td>\n",
       "      <td>Female</td>\n",
       "      <td>67.067155</td>\n",
       "      <td>170.867906</td>\n",
       "    </tr>\n",
       "    <tr>\n",
       "      <td>9997</td>\n",
       "      <td>Female</td>\n",
       "      <td>63.867992</td>\n",
       "      <td>128.475319</td>\n",
       "    </tr>\n",
       "    <tr>\n",
       "      <td>9998</td>\n",
       "      <td>Female</td>\n",
       "      <td>69.034243</td>\n",
       "      <td>163.852461</td>\n",
       "    </tr>\n",
       "    <tr>\n",
       "      <td>9999</td>\n",
       "      <td>Female</td>\n",
       "      <td>61.944246</td>\n",
       "      <td>113.649103</td>\n",
       "    </tr>\n",
       "  </tbody>\n",
       "</table>\n",
       "</div>"
      ],
      "text/plain": [
       "      Gender     Height      Weight\n",
       "9986  Female  63.352698  141.906510\n",
       "9987  Female  65.610243  151.169475\n",
       "9988  Female  59.538729  121.244876\n",
       "9989  Female  60.955084   95.686674\n",
       "9990  Female  63.179498  141.266100\n",
       "9991  Female  62.636675  102.853563\n",
       "9992  Female  62.077832  138.691680\n",
       "9993  Female  60.030434   97.687432\n",
       "9994  Female  59.098250  110.529686\n",
       "9995  Female  66.172652  136.777454\n",
       "9996  Female  67.067155  170.867906\n",
       "9997  Female  63.867992  128.475319\n",
       "9998  Female  69.034243  163.852461\n",
       "9999  Female  61.944246  113.649103"
      ]
     },
     "execution_count": 91,
     "metadata": {},
     "output_type": "execute_result"
    }
   ],
   "source": [
    "import pandas as pd # package\n",
    "measurements = pd.read_csv(\"weight-height.csv\") # \n",
    "measurements.tail(14) # method \n",
    "#measurements.columns # attribute"
   ]
  },
  {
   "cell_type": "code",
   "execution_count": 127,
   "metadata": {},
   "outputs": [
    {
     "name": "stdout",
     "output_type": "stream",
     "text": [
      "Hello! The weather today is cold\n"
     ]
    }
   ],
   "source": [
    "class Person():\n",
    "    \n",
    "    def say_hello_and_weather(self, weather):\n",
    "        return f'Hello! The weather today is {weather}'\n",
    "\n",
    "rachel = Person()\n",
    "\n",
    "print(rachel.say_hello_and_weather('cold'))"
   ]
  },
  {
   "cell_type": "code",
   "execution_count": null,
   "metadata": {},
   "outputs": [],
   "source": []
  },
  {
   "cell_type": "code",
   "execution_count": null,
   "metadata": {},
   "outputs": [],
   "source": []
  },
  {
   "cell_type": "code",
   "execution_count": null,
   "metadata": {},
   "outputs": [],
   "source": []
  },
  {
   "cell_type": "code",
   "execution_count": null,
   "metadata": {},
   "outputs": [],
   "source": []
  },
  {
   "cell_type": "code",
   "execution_count": null,
   "metadata": {},
   "outputs": [],
   "source": []
  },
  {
   "cell_type": "code",
   "execution_count": null,
   "metadata": {},
   "outputs": [],
   "source": []
  },
  {
   "cell_type": "markdown",
   "metadata": {
    "slideshow": {
     "slide_type": "fragment"
    }
   },
   "source": [
    "Looking at the code block above, identify the following Package, Object, Method, Attribute."
   ]
  },
  {
   "cell_type": "markdown",
   "metadata": {
    "slideshow": {
     "slide_type": "slide"
    }
   },
   "source": [
    "https://goo.gl/forms/YLXajp3pzugKfoaA3"
   ]
  }
 ],
 "metadata": {
  "kernelspec": {
   "display_name": "Python 3",
   "language": "python",
   "name": "python3"
  },
  "language_info": {
   "codemirror_mode": {
    "name": "ipython",
    "version": 3
   },
   "file_extension": ".py",
   "mimetype": "text/x-python",
   "name": "python",
   "nbconvert_exporter": "python",
   "pygments_lexer": "ipython3",
   "version": "3.7.4"
  }
 },
 "nbformat": 4,
 "nbformat_minor": 2
}
