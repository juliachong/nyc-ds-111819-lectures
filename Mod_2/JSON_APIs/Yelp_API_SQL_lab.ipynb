{
 "cells": [
  {
   "cell_type": "markdown",
   "metadata": {},
   "source": [
    "# Yelp API - Lab\n",
    "\n",
    "\n",
    "\n",
    "## Introduction \n",
    "\n",
    "Now that we've seen how the Yelp API works, it's time to put those API and SQL skills to work in order to do some basic business analysis! Taking things a step further, you'll also independently explore how to perform pagination in order to retrieve a full results set from the Yelp API!\n",
    "\n",
    "## Objectives\n",
    "\n",
    "You will be able to:\n",
    "* Create a DB on AWS to store information from Yelp about businesses\n",
    "* Create HTTP requests to get data from Yelp API\n",
    "* Parse HTTP responses and insert the information into your DB\n",
    "* Perform pagination to retrieve troves of data!\n",
    "* Write SQL queries to answer questions about your data "
   ]
  },
  {
   "cell_type": "markdown",
   "metadata": {},
   "source": [
    "## Problem Introduction\n",
    "\n",
    "For this lab you will analyze the yelp data for a group of businesses to learn more about an industry. You will choose a type of business (Italian Restuarants, Nail Salons, Crossfit gyms) and a location to analyze. Then you will get data from the Yelp API, store that data in a SQL Database on AWS, and write queries to answer questions about the data. \n",
    "\n",
    "\n",
    "### Process:\n",
    "\n",
    "1. Read through the SQL questions and the API documentation to determine which pieces of information you need to pull from the Yelp API.\n",
    "\n",
    "2. Create a DB schema with 2 tables. One for the businesses and one for the reviews.\n",
    "\n",
    "3. Create code to:\n",
    "  - Perform a search of businesses using pagination\n",
    "  - Parse the API response for specific data points\n",
    "  - Insert the data into your AWS DB\n",
    "\n",
    "4. Use the functions above in a loop that will paginate over the results to retrieve all of the results. \n",
    "\n",
    "5. Create functions to:\n",
    "  - Retrieve the reviews data of one business\n",
    "  - Parse the reviews response for specific review data\n",
    "  - Insert the review data into the DB\n",
    "\n",
    "6. Using SQL, query all of the business IDs. Using the 3 Python functions you've created, run your business IDs through a loop to get the reviews for each business and insert them into your DB.\n",
    "\n",
    "7. Write SQL queries to answer the following questions about your data.\n",
    "\n",
    "\n",
    "Bonus Steps:  \n",
    "- Place your helper functions in a package so that your final notebook only has the major steps listed.\n",
    "- Rewrite your business search functions to be able take an argument for the type of business you are searching for.\n",
    "- Add another group of businesses to your database.\n"
   ]
  },
  {
   "cell_type": "markdown",
   "metadata": {},
   "source": [
    " \n",
    "## SQL Questions:\n",
    "\n",
    "- Which are the 5 most reviewed businesses?\n",
    "- What is the highest rating recieved in your data set and how many businesses have that rating?\n",
    "- What percentage of businesses have a rating greater than or  4.5?\n",
    "- What percentage of businesses have a rating less than 3?\n",
    "- What is the average rating of restaurants that have a price label of one dollar sign? Two dollar signs? Three dollar signs? \n",
    "- Return the text of the reviews for the most reviewed restaurant. \n",
    "- Return the name of the business with the most recent review. \n",
    "- Find the highest rated business and return text of the most recent review. If multiple business have the same rating, select the restaurant with the most reviews. \n",
    "- Find the lowest rated business and return text of the most recent review.  If multiple business have the same rating, select the restaurant with the least reviews. \n"
   ]
  },
  {
   "cell_type": "markdown",
   "metadata": {},
   "source": [
    "## Part 1 - Understanding your data and question\n",
    "\n",
    "Lok at the question and determine what data you will need to store in your database in order to answer the questions. Start to thin about your DB schema. What tables will you want to create and what columns will you ahve for those tables. \n",
    "\n",
    "Look at the API documentation, and determine what fields of the API response you will match up with the columns you want in your DB tables. \n",
    "\n",
    "\n",
    "https://www.yelp.com/developers/documentation/v3/get_started"
   ]
  },
  {
   "cell_type": "markdown",
   "metadata": {},
   "source": [
    "## Part 2 - Set up the DB\n",
    "\n",
    "Now that you are familiar with the data, create your SQL queries to create the DB and the appropriate tables. "
   ]
  },
  {
   "cell_type": "markdown",
   "metadata": {},
   "source": [
    "### Foriegn Keys\n",
    "\n",
    "BFor this project you will have two tables that you need to link using a foreign key. Below is some information about how to create a foriegn key.  \n",
    "\n",
    "http://www.mysqltutorial.org/mysql-foreign-key/\n",
    "\n"
   ]
  },
  {
   "cell_type": "markdown",
   "metadata": {},
   "source": [
    "### Using DB:\n",
    "    \n",
    "For this lab, you can either store the data on one DB or put in on both of the partners DBs. If you decide to put it on one DB, you want to make sure both partners have access to it.  To do this you want to add a user to your DB.  \n",
    "\n",
    "[how to add a new user](https://howchoo.com/g/mtm3zdq2nzv/how-to-add-a-mysql-user-and-grant-privileges)"
   ]
  },
  {
   "cell_type": "code",
   "execution_count": 1,
   "metadata": {},
   "outputs": [
    {
     "name": "stdout",
     "output_type": "stream",
     "text": [
      "Requirement already satisfied: mysql-connector-python in /opt/anaconda3/lib/python3.7/site-packages (8.0.18)\n",
      "Requirement already satisfied: protobuf>=3.0.0 in /opt/anaconda3/lib/python3.7/site-packages (from mysql-connector-python) (3.11.1)\n",
      "Requirement already satisfied: setuptools in /opt/anaconda3/lib/python3.7/site-packages (from protobuf>=3.0.0->mysql-connector-python) (41.4.0)\n",
      "Requirement already satisfied: six>=1.9 in /opt/anaconda3/lib/python3.7/site-packages (from protobuf>=3.0.0->mysql-connector-python) (1.12.0)\n"
     ]
    }
   ],
   "source": [
    "## Connect to DB server on AWS\n",
    "!pip install mysql-connector-python\n",
    "import mysql.connector\n",
    "# imports the python package, mysql\n",
    "import config1\n",
    "cnx = mysql.connector.connect(\n",
    "    host = config1.host,\n",
    "    user = config1.user,\n",
    "    passwd = config1.password\n",
    ")\n",
    "cursor = cnx.cursor()\n"
   ]
  },
  {
   "cell_type": "code",
   "execution_count": 2,
   "metadata": {},
   "outputs": [],
   "source": [
    "## Create new DB \n",
    "cursor.execute(\"CREATE DATABASE yelp_data\")\n",
    "cnx.database = 'yelp_data'\n",
    "# this is PYTHON code.\n",
    "# this allows you to connect to the AWS server.\n",
    "# flatiron-database.c3qfl5qwsniw.us-east-1.rds.amazonaws.com is what you are connecting to.\n",
    "# cnx is an OBJECT."
   ]
  },
  {
   "cell_type": "code",
   "execution_count": 3,
   "metadata": {},
   "outputs": [],
   "source": [
    "# LIST OF THINGS WE NEED FOR TABLES\n",
    "# business name, rating, price, review_text, review_date, number_of_reviews\n",
    "# BUSINESS = business name, business_rating, price, number_of_reviews\n",
    "# REVIEWS = review_text, review_rating, review_date"
   ]
  },
  {
   "cell_type": "code",
   "execution_count": 14,
   "metadata": {},
   "outputs": [
    {
     "ename": "ProgrammingError",
     "evalue": "1170 (42000): BLOB/TEXT column 'business_id' used in key specification without a key length",
     "output_type": "error",
     "traceback": [
      "\u001b[0;31m---------------------------------------------------------------------------\u001b[0m",
      "\u001b[0;31mMySQLInterfaceError\u001b[0m                       Traceback (most recent call last)",
      "\u001b[0;32m/opt/anaconda3/lib/python3.7/site-packages/mysql/connector/connection_cext.py\u001b[0m in \u001b[0;36mcmd_query\u001b[0;34m(self, query, raw, buffered, raw_as_string)\u001b[0m\n\u001b[1;32m    471\u001b[0m                                \u001b[0mraw\u001b[0m\u001b[0;34m=\u001b[0m\u001b[0mraw\u001b[0m\u001b[0;34m,\u001b[0m \u001b[0mbuffered\u001b[0m\u001b[0;34m=\u001b[0m\u001b[0mbuffered\u001b[0m\u001b[0;34m,\u001b[0m\u001b[0;34m\u001b[0m\u001b[0;34m\u001b[0m\u001b[0m\n\u001b[0;32m--> 472\u001b[0;31m                                raw_as_string=raw_as_string)\n\u001b[0m\u001b[1;32m    473\u001b[0m         \u001b[0;32mexcept\u001b[0m \u001b[0mMySQLInterfaceError\u001b[0m \u001b[0;32mas\u001b[0m \u001b[0mexc\u001b[0m\u001b[0;34m:\u001b[0m\u001b[0;34m\u001b[0m\u001b[0;34m\u001b[0m\u001b[0m\n",
      "\u001b[0;31mMySQLInterfaceError\u001b[0m: BLOB/TEXT column 'business_id' used in key specification without a key length",
      "\nDuring handling of the above exception, another exception occurred:\n",
      "\u001b[0;31mProgrammingError\u001b[0m                          Traceback (most recent call last)",
      "\u001b[0;32m<ipython-input-14-5badfa6b6374>\u001b[0m in \u001b[0;36m<module>\u001b[0;34m\u001b[0m\n\u001b[1;32m      8\u001b[0m     );\n\u001b[1;32m      9\u001b[0m \"\"\"\n\u001b[0;32m---> 10\u001b[0;31m \u001b[0mcursor\u001b[0m\u001b[0;34m.\u001b[0m\u001b[0mexecute\u001b[0m\u001b[0;34m(\u001b[0m\u001b[0mcreate_businesses\u001b[0m\u001b[0;34m)\u001b[0m\u001b[0;34m\u001b[0m\u001b[0;34m\u001b[0m\u001b[0m\n\u001b[0m",
      "\u001b[0;32m/opt/anaconda3/lib/python3.7/site-packages/mysql/connector/cursor_cext.py\u001b[0m in \u001b[0;36mexecute\u001b[0;34m(self, operation, params, multi)\u001b[0m\n\u001b[1;32m    264\u001b[0m             result = self._cnx.cmd_query(stmt, raw=self._raw,\n\u001b[1;32m    265\u001b[0m                                          \u001b[0mbuffered\u001b[0m\u001b[0;34m=\u001b[0m\u001b[0mself\u001b[0m\u001b[0;34m.\u001b[0m\u001b[0m_buffered\u001b[0m\u001b[0;34m,\u001b[0m\u001b[0;34m\u001b[0m\u001b[0;34m\u001b[0m\u001b[0m\n\u001b[0;32m--> 266\u001b[0;31m                                          raw_as_string=self._raw_as_string)\n\u001b[0m\u001b[1;32m    267\u001b[0m         \u001b[0;32mexcept\u001b[0m \u001b[0mMySQLInterfaceError\u001b[0m \u001b[0;32mas\u001b[0m \u001b[0mexc\u001b[0m\u001b[0;34m:\u001b[0m\u001b[0;34m\u001b[0m\u001b[0;34m\u001b[0m\u001b[0m\n\u001b[1;32m    268\u001b[0m             raise errors.get_mysql_exception(msg=exc.msg, errno=exc.errno,\n",
      "\u001b[0;32m/opt/anaconda3/lib/python3.7/site-packages/mysql/connector/connection_cext.py\u001b[0m in \u001b[0;36mcmd_query\u001b[0;34m(self, query, raw, buffered, raw_as_string)\u001b[0m\n\u001b[1;32m    473\u001b[0m         \u001b[0;32mexcept\u001b[0m \u001b[0mMySQLInterfaceError\u001b[0m \u001b[0;32mas\u001b[0m \u001b[0mexc\u001b[0m\u001b[0;34m:\u001b[0m\u001b[0;34m\u001b[0m\u001b[0;34m\u001b[0m\u001b[0m\n\u001b[1;32m    474\u001b[0m             raise errors.get_mysql_exception(exc.errno, msg=exc.msg,\n\u001b[0;32m--> 475\u001b[0;31m                                              sqlstate=exc.sqlstate)\n\u001b[0m\u001b[1;32m    476\u001b[0m         \u001b[0;32mexcept\u001b[0m \u001b[0mAttributeError\u001b[0m\u001b[0;34m:\u001b[0m\u001b[0;34m\u001b[0m\u001b[0;34m\u001b[0m\u001b[0m\n\u001b[1;32m    477\u001b[0m             \u001b[0;32mif\u001b[0m \u001b[0mself\u001b[0m\u001b[0;34m.\u001b[0m\u001b[0m_unix_socket\u001b[0m\u001b[0;34m:\u001b[0m\u001b[0;34m\u001b[0m\u001b[0;34m\u001b[0m\u001b[0m\n",
      "\u001b[0;31mProgrammingError\u001b[0m: 1170 (42000): BLOB/TEXT column 'business_id' used in key specification without a key length"
     ]
    }
   ],
   "source": [
    "# Create a table for the Businesses\n",
    "create_businesses = \"\"\"CREATE TABLE business\n",
    "    (business_id text PRIMARY KEY,\n",
    "    business_name text,\n",
    "    business_rating double,\n",
    "    price varchar(10),\n",
    "    no_of_reviews int\n",
    "    );\n",
    "\"\"\"\n",
    "cursor.execute(create_businesses)"
   ]
  },
  {
   "cell_type": "code",
   "execution_count": 15,
   "metadata": {},
   "outputs": [],
   "source": [
    "cnx.commit()"
   ]
  },
  {
   "cell_type": "code",
   "execution_count": null,
   "metadata": {},
   "outputs": [],
   "source": [
    "# Create a table for the reviews\n",
    "create_reviews = \"\"\"\n",
    "    )\n",
    "\"\"\""
   ]
  },
  {
   "cell_type": "markdown",
   "metadata": {},
   "source": [
    "## Part 3 - Create ETL pipeline for the business data from the API\n",
    "\n",
    "Now that you know what data you need from the API, you want to write code that will execute a api call, parse those results and then insert the results into the DB.  \n",
    "\n",
    "It is helpful to break this up into three different functions (*api call, parse results, and insert into DB*) and then you can write a function/script that pull the other three functions together. \n",
    "\n",
    "Let's first do this for the Business endpoint."
   ]
  },
  {
   "cell_type": "code",
   "execution_count": 3,
   "metadata": {},
   "outputs": [],
   "source": [
    "# Write a function to make a call to the yelp API\n",
    "import requests\n",
    "import json\n",
    "url = 'https://api.yelp.com/v3/businesses/search'\n",
    "client_id = 'V7jC9R0wg8iyi0uprqrIDQ'\n",
    "api_key = '__RrqPgntWvjGhyjuZrEW4sn6o3g-zID39CzFyAO8qkTIUgxGBvDdeB3_v3_qrBeCZ4QyimcSchxfoaQxx9LO-Kff6XNsoXvlFAXZMuOu66CyUS__M7xA4oZsSjpXXYx'\n",
    "\n",
    "headers = {\n",
    "        'Authorization': 'Bearer {}'.format(api_key),\n",
    "    }\n",
    "\n",
    "\n",
    "term = 'Irish'\n",
    "location = 'Manhattan'\n",
    "categories = 'bars'\n",
    "radius = 1000\n",
    "status = True\n",
    "offset = 0\n",
    "\n",
    "\n",
    "url_params = {\n",
    "                'term': term.replace(' ', '+'),\n",
    "                'location': location.replace(' ', '+'),\n",
    "                'categories' : categories,\n",
    "                'open now' : status,\n",
    "                'radius' : radius,\n",
    "                'offset' : offset\n",
    "            }\n",
    "response = requests.get(url, headers=headers, params=url_params)\n",
    "\n"
   ]
  },
  {
   "cell_type": "code",
   "execution_count": 4,
   "metadata": {},
   "outputs": [
    {
     "name": "stdout",
     "output_type": "stream",
     "text": [
      "129\n"
     ]
    }
   ],
   "source": [
    "response = requests.get(url, headers=headers, params=url_params)\n",
    "data = response.json()\n",
    "print(data['total'])"
   ]
  },
  {
   "cell_type": "code",
   "execution_count": 5,
   "metadata": {},
   "outputs": [
    {
     "data": {
      "text/plain": [
       "{'id': 'vA5yC1MqC7N9gs9q-Kh2nQ',\n",
       " 'alias': 'm-j-smiths-food-and-spirits-new-york-3',\n",
       " 'name': \"M J  Smith's Food & Spirits\",\n",
       " 'image_url': 'https://s3-media4.fl.yelpcdn.com/bphoto/7OVNVyMk-GqMwRFAWQlEaQ/o.jpg',\n",
       " 'is_closed': False,\n",
       " 'url': 'https://www.yelp.com/biz/m-j-smiths-food-and-spirits-new-york-3?adjust_creative=V7jC9R0wg8iyi0uprqrIDQ&utm_campaign=yelp_api_v3&utm_medium=api_v3_business_search&utm_source=V7jC9R0wg8iyi0uprqrIDQ',\n",
       " 'review_count': 27,\n",
       " 'categories': [{'alias': 'irish_pubs', 'title': 'Irish Pub'},\n",
       "  {'alias': 'tradamerican', 'title': 'American (Traditional)'}],\n",
       " 'rating': 4.5,\n",
       " 'coordinates': {'latitude': 40.75514, 'longitude': -73.9786},\n",
       " 'transactions': [],\n",
       " 'location': {'address1': '9 East 45th St',\n",
       "  'address2': None,\n",
       "  'address3': '',\n",
       "  'city': 'New York',\n",
       "  'zip_code': '10017',\n",
       "  'country': 'US',\n",
       "  'state': 'NY',\n",
       "  'display_address': ['9 East 45th St', 'New York, NY 10017']},\n",
       " 'phone': '+16465967497',\n",
       " 'display_phone': '(646) 596-7497',\n",
       " 'distance': 551.9635619575897}"
      ]
     },
     "execution_count": 5,
     "metadata": {},
     "output_type": "execute_result"
    }
   ],
   "source": [
    "business = data['businesses'][5]\n",
    "business"
   ]
  },
  {
   "cell_type": "code",
   "execution_count": 10,
   "metadata": {},
   "outputs": [],
   "source": [
    "def parse_business(offset):\n",
    "    \n",
    "    url = 'https://api.yelp.com/v3/businesses/search'\n",
    "    term = 'Irish'\n",
    "    location = 'Manhattan'\n",
    "    categories = 'bars'\n",
    "    radius = 1000\n",
    "    status = True\n",
    "\n",
    "\n",
    "    url_params = {\n",
    "                    'term': term.replace(' ', '+'),\n",
    "                    'location': location.replace(' ', '+'),\n",
    "                    'categories' : categories,\n",
    "                    'open now' : status,\n",
    "                    'radius' : radius,\n",
    "                    'offset' : offset\n",
    "                }\n",
    "    response = requests.get(url, headers=headers, params=url_params)\n",
    "    data = response.json()\n",
    "    print(data['total'])\n",
    "    businesses = data['businesses']\n",
    "    # create a container to hold our parsed data\n",
    "    parsed_data = []\n",
    "    bus_objs = []\n",
    "    \n",
    "    # loop through our business and parse each individual business\n",
    "    for business in businesses:\n",
    "        if 'price' not in business:\n",
    "            business['price'] = \"\"\n",
    "        biz_tuple = (business['id'],\n",
    "                    business['name'], \n",
    "                    business['price'],\n",
    "                    business['rating'],\n",
    "                    business['review_count'])\n",
    "        parsed_data.append(biz_tuple)\n",
    "        b = Business(business['id'],  business['name'], business['price'], \n",
    "                        business['rating'], business['review_count'])\n",
    "        bus_objs.append(b)\n",
    "        \n",
    "    return bus_objs\n",
    "    # in the loop, add each individual parsed parsed business to our data container\n",
    "    \n",
    "    # return the container with all of the parsed results"
   ]
  },
  {
   "cell_type": "code",
   "execution_count": 11,
   "metadata": {},
   "outputs": [
    {
     "name": "stdout",
     "output_type": "stream",
     "text": [
      "129\n"
     ]
    },
    {
     "data": {
      "text/plain": [
       "[<__main__.Business at 0x105383510>,\n",
       " <__main__.Business at 0x105383550>,\n",
       " <__main__.Business at 0x105383590>,\n",
       " <__main__.Business at 0x1053835d0>,\n",
       " <__main__.Business at 0x105383650>,\n",
       " <__main__.Business at 0x1053836d0>,\n",
       " <__main__.Business at 0x105383710>,\n",
       " <__main__.Business at 0x105383750>,\n",
       " <__main__.Business at 0x105383610>,\n",
       " <__main__.Business at 0x105383690>,\n",
       " <__main__.Business at 0x105383790>,\n",
       " <__main__.Business at 0x1053837d0>,\n",
       " <__main__.Business at 0x105383810>,\n",
       " <__main__.Business at 0x105383850>,\n",
       " <__main__.Business at 0x105383890>,\n",
       " <__main__.Business at 0x1053838d0>,\n",
       " <__main__.Business at 0x105383910>,\n",
       " <__main__.Business at 0x105383950>,\n",
       " <__main__.Business at 0x105383990>,\n",
       " <__main__.Business at 0x1053839d0>]"
      ]
     },
     "execution_count": 11,
     "metadata": {},
     "output_type": "execute_result"
    }
   ],
   "source": [
    "b_objs = parse_business(0)\n",
    "b_objs"
   ]
  },
  {
   "cell_type": "code",
   "execution_count": 12,
   "metadata": {},
   "outputs": [
    {
     "name": "stdout",
     "output_type": "stream",
     "text": [
      "Id: c8FID4VcTtDDONokhACvfQ name: O'Lunney's price: $$ rating: 4.0 review count: 382\n"
     ]
    }
   ],
   "source": [
    "b = b_objs[0]\n",
    "print(f\"Id: {b.bus_id} name: {b.name} price: {b.price} rating: {b.rating} review count: {b.review_count}\")"
   ]
  },
  {
   "cell_type": "code",
   "execution_count": 13,
   "metadata": {},
   "outputs": [],
   "source": [
    "def parse_review(b_obj):\n",
    "    \n",
    "    business_id = b_obj.bus_id\n",
    "    url = 'https://api.yelp.com/v3/businesses/' + business_id + '/reviews'\n",
    "\n",
    "\n",
    "    url_params = {}\n",
    "    response = requests.get(url, headers=headers, params=url_params)\n",
    "    data = response.json()\n",
    "    reviews = data['reviews']\n",
    "    # create a container to hold our parsed data\n",
    "    parsed_data = []\n",
    "    \n",
    "    # loop through our business and parse each individual business\n",
    "    for review in reviews:\n",
    "        review_tuple = (review['id'], \n",
    "                    review['text'],\n",
    "                    review['rating'],\n",
    "                    review['time_created'])\n",
    "        parsed_data.append(review_tuple)\n",
    "        \n",
    "        review_obj = Review(review['id'], \n",
    "                    review['text'],\n",
    "                    review['rating'],\n",
    "                    review['time_created'])\n",
    "        b_obj.add_review(review_obj)\n",
    "        \n",
    "    return b_obj\n",
    "    # in the loop, add each individual parsed parsed business to our data container\n",
    "    \n",
    "    # return the container with all of the parsed results"
   ]
  },
  {
   "cell_type": "code",
   "execution_count": 8,
   "metadata": {},
   "outputs": [],
   "source": [
    "class Business:\n",
    "    def __init__(self, bus_id, name, price, rating, review_count):\n",
    "        self.bus_id = bus_id\n",
    "        self.name = name\n",
    "        self.price = price\n",
    "        self.rating = rating\n",
    "        self.review_count = review_count\n",
    "        self.reviews = []\n",
    "        \n",
    "    def add_review(self, review):\n",
    "        self.reviews.append(review)\n",
    "    def print_business(self):\n",
    "        print(f\"Id: {self.bus_id} name: {self.name} price: {self.price} rating: {self.rating} review count: {self.review_count}\")\n",
    "        for review in self.reviews:\n",
    "            review.print_review()\n",
    "    def test(self):\n",
    "        print(\"In test\")\n",
    "    def insert_business_into_db(self, cnx, cursor):\n",
    "        business_tuple = ()\n",
    "        insert_sql = \"\"\"INSERT INTO yelp_data.business \n",
    "        (business_id, business_name, business_rating, price, no_of_reviews) \n",
    "        VALUES (%s, %s, %s, %s, %s)\"\"\"\n",
    "        business_tuple = (self.bus_id, self.name, self.rating, self.price, self.review_count)\n",
    "        cursor.execute(insert_sql, business_tuple)\n",
    "        cnx.commit()\n",
    "        self.insert_reviews_into_db(cnx, cursor)      \n",
    "    def insert_reviews_into_db(self, cnx, cursor):\n",
    "        for review in self.reviews:\n",
    "            review_tuple = ()\n",
    "            insert_sql = \"\"\"INSERT INTO yelp_data.reviews\n",
    "            (review_id, rating, text, time_created, business_id)\n",
    "            VALUES (%s, %s, %s, %s, %s)\"\"\"\n",
    "            review_tuple = (review.id, review.rating, \n",
    "                            review.text, review.time_created, self.bus_id)\n",
    "\n",
    "            cursor.execute(insert_sql, review_tuple)\n",
    "            print(insert_sql, review_tuple)\n",
    "            cnx.commit()\n"
   ]
  },
  {
   "cell_type": "code",
   "execution_count": 9,
   "metadata": {},
   "outputs": [],
   "source": [
    "\n",
    "\n",
    "            \n",
    "class Review:\n",
    "    def __init__(self, id, text, rating, time_created):\n",
    "        self.id = id\n",
    "        self.text = text\n",
    "        self.rating = rating\n",
    "        self.time_created = time_created\n",
    "    def print_review(self):\n",
    "        print(f\"Id: {self.id} review: {self.text} rating: {self.rating} timestamp: {self.time_created}\")\n",
    "        \n",
    "        \n",
    "\n",
    "        "
   ]
  },
  {
   "cell_type": "code",
   "execution_count": 22,
   "metadata": {},
   "outputs": [],
   "source": [
    "\n",
    "\n",
    "def parse_business_and_reviews(offset):\n",
    "    b_objs = parse_business(offset)\n",
    "    for b_obj in b_objs:\n",
    "        parse_review(b_obj)\n",
    "        b_obj.print_business()\n",
    "    return b_objs\n"
   ]
  },
  {
   "cell_type": "code",
   "execution_count": null,
   "metadata": {},
   "outputs": [],
   "source": []
  },
  {
   "cell_type": "code",
   "execution_count": 25,
   "metadata": {},
   "outputs": [],
   "source": [
    "# create a variable  to keep track of which result you are in. \n",
    "import time\n",
    "def parse_pagination():\n",
    "    num = data['total']\n",
    "    pagesize = 20\n",
    "    cur = 0\n",
    "    b_objs = []\n",
    "    val = input(f\"Number of businesses is {num}, proceed [y|n]?\")\n",
    "    if val != 'y':\n",
    "        return\n",
    "    \n",
    "    #set up a while loop to go through and grab the result \n",
    "    while cur < num and cur < 1000:\n",
    "        #make your API call with the new offset number\n",
    "        b_objs_page = parse_business_and_reviews(cur)\n",
    "        b_objs.extend(b_objs_page)\n",
    "        time.sleep(1)\n",
    "        #increment the counter by 50 to move on to the next results\n",
    "        cur += pagesize\n",
    "        print(len(b_objs))\n",
    "        \n",
    "    for b_obj in b_objs:\n",
    "        b_obj.insert_business_into_db(cnx, cursor)"
   ]
  },
  {
   "cell_type": "code",
   "execution_count": 1,
   "metadata": {},
   "outputs": [],
   "source": [
    "#parse_pagination()"
   ]
  },
  {
   "cell_type": "code",
   "execution_count": 44,
   "metadata": {},
   "outputs": [
    {
     "name": "stdout",
     "output_type": "stream",
     "text": [
      "129\n"
     ]
    }
   ],
   "source": [
    "data = response.json()\n",
    "print(data['total'])"
   ]
  },
  {
   "cell_type": "code",
   "execution_count": 15,
   "metadata": {},
   "outputs": [
    {
     "name": "stdout",
     "output_type": "stream",
     "text": [
      "Id: c8FID4VcTtDDONokhACvfQ name: O'Lunney's price: $$ rating: 4.0 review count: 382\n",
      "Id: dURIrDjOhV51M6aeWdw4cg review: We got the crab cake app the chicken pot pie and beef stew\n",
      "We were told all is made in house\n",
      "The stew was overflowing with goodies not a think soup like... rating: 4 timestamp: 2019-09-08 09:40:12\n",
      "Id: ZBs4ZFSD8y37v_zQ28gXLA review: 2.5 Stars but I'll round up to 3.\n",
      "\n",
      "We were looking for a quick meal before a show and decided to give O'Lunneys a try.  Their menu is kind of simple: some... rating: 3 timestamp: 2019-08-10 21:13:36\n",
      "Id: AZhMNvOuHD-daAu86zSA1g review: PROS: This place was very nice! I walked in and it had a fancy atmosphere, attentive staff, and nice music playing in the back. This place has 3 sections: a... rating: 4 timestamp: 2019-07-13 17:54:35\n"
     ]
    }
   ],
   "source": [
    "business_list[0].print_business()"
   ]
  },
  {
   "cell_type": "code",
   "execution_count": 14,
   "metadata": {},
   "outputs": [
    {
     "name": "stdout",
     "output_type": "stream",
     "text": [
      "129\n",
      "Id: c8FID4VcTtDDONokhACvfQ name: O'Lunney's price: $$ rating: 4.0 review count: 382\n",
      "Id: dURIrDjOhV51M6aeWdw4cg review: We got the crab cake app the chicken pot pie and beef stew\n",
      "We were told all is made in house\n",
      "The stew was overflowing with goodies not a think soup like... rating: 4 timestamp: 2019-09-08 09:40:12\n",
      "Id: ZBs4ZFSD8y37v_zQ28gXLA review: 2.5 Stars but I'll round up to 3.\n",
      "\n",
      "We were looking for a quick meal before a show and decided to give O'Lunneys a try.  Their menu is kind of simple: some... rating: 3 timestamp: 2019-08-10 21:13:36\n",
      "Id: AZhMNvOuHD-daAu86zSA1g review: PROS: This place was very nice! I walked in and it had a fancy atmosphere, attentive staff, and nice music playing in the back. This place has 3 sections: a... rating: 4 timestamp: 2019-07-13 17:54:35\n"
     ]
    }
   ],
   "source": [
    "business_list = parse_business(0)\n",
    "parse_review(business_list[0])\n",
    "business_list[0].print_business()\n"
   ]
  },
  {
   "cell_type": "code",
   "execution_count": 16,
   "metadata": {},
   "outputs": [
    {
     "name": "stdout",
     "output_type": "stream",
     "text": [
      "INSERT INTO yelp_data.reviews\n",
      "            (review_id, rating, text, time_created, business_id)\n",
      "            VALUES (%s, %s, %s, %s, %s) ('dURIrDjOhV51M6aeWdw4cg', 4, 'We got the crab cake app the chicken pot pie and beef stew\\nWe were told all is made in house\\nThe stew was overflowing with goodies not a think soup like...', '2019-09-08 09:40:12', 'c8FID4VcTtDDONokhACvfQ')\n",
      "INSERT INTO yelp_data.reviews\n",
      "            (review_id, rating, text, time_created, business_id)\n",
      "            VALUES (%s, %s, %s, %s, %s) ('ZBs4ZFSD8y37v_zQ28gXLA', 3, \"2.5 Stars but I'll round up to 3.\\n\\nWe were looking for a quick meal before a show and decided to give O'Lunneys a try.  Their menu is kind of simple: some...\", '2019-08-10 21:13:36', 'c8FID4VcTtDDONokhACvfQ')\n",
      "INSERT INTO yelp_data.reviews\n",
      "            (review_id, rating, text, time_created, business_id)\n",
      "            VALUES (%s, %s, %s, %s, %s) ('AZhMNvOuHD-daAu86zSA1g', 4, 'PROS: This place was very nice! I walked in and it had a fancy atmosphere, attentive staff, and nice music playing in the back. This place has 3 sections: a...', '2019-07-13 17:54:35', 'c8FID4VcTtDDONokhACvfQ')\n"
     ]
    }
   ],
   "source": [
    "business_list[0].insert_business_into_db(cnx, cursor)\n",
    "#business_list[0].insert_reviews_into_db(cnx, cursor)\n",
    "#dir(business_list[0])\n",
    "#business_list[0].print_business()"
   ]
  },
  {
   "cell_type": "code",
   "execution_count": null,
   "metadata": {},
   "outputs": [],
   "source": []
  },
  {
   "cell_type": "code",
   "execution_count": null,
   "metadata": {},
   "outputs": [],
   "source": []
  },
  {
   "cell_type": "code",
   "execution_count": 9,
   "metadata": {},
   "outputs": [],
   "source": [
    "def import_data():\n",
    "    url = 'https://api.yelp.com/v3/businesses/search'\n",
    "    client_id = 'V7jC9R0wg8iyi0uprqrIDQ'\n",
    "    api_key = '__RrqPgntWvjGhyjuZrEW4sn6o3g-zID39CzFyAO8qkTIUgxGBvDdeB3_v3_qrBeCZ4QyimcSchxfoaQxx9LO-Kff6XNsoXvlFAXZMuOu66CyUS__M7xA4oZsSjpXXYx'\n",
    "\n",
    "    headers = {\n",
    "            'Authorization': 'Bearer {}'.format(api_key),\n",
    "        }\n",
    "\n",
    "    term = 'Irish'\n",
    "    location = 'Manhattan'\n",
    "    categories = 'bars'\n",
    "    status = True\n",
    "\n",
    "\n",
    "    url_params = {\n",
    "                    'term': term.replace(' ', '+'),\n",
    "                    'location': location.replace(' ', '+'),\n",
    "                    'categories' : categories,\n",
    "                    'open now' : status\n",
    "                }"
   ]
  },
  {
   "cell_type": "code",
   "execution_count": null,
   "metadata": {},
   "outputs": [],
   "source": []
  },
  {
   "cell_type": "code",
   "execution_count": null,
   "metadata": {},
   "outputs": [],
   "source": [
    "# LIST OF THINGS WE NEED FOR TABLES\n",
    "# business name, rating, price, review_text, review_date, number_of_reviews\n",
    "# BUSINESS = business name, business_rating, price, number_of_reviews\n",
    "# REVIEWS = review_text, review_rating, review_date"
   ]
  },
  {
   "cell_type": "code",
   "execution_count": null,
   "metadata": {},
   "outputs": [],
   "source": [
    "# write a function to parse the API response \n",
    "# so that you can easily insert the data in to the DB"
   ]
  },
  {
   "cell_type": "code",
   "execution_count": 1,
   "metadata": {},
   "outputs": [],
   "source": [
    "# Write a function to take your parsed data and insert it into the DB"
   ]
  },
  {
   "cell_type": "code",
   "execution_count": null,
   "metadata": {},
   "outputs": [],
   "source": [
    "# Write a script that combines the three functions above into a single process."
   ]
  },
  {
   "cell_type": "markdown",
   "metadata": {},
   "source": [
    "## Part 4 -  Create ETL pipeline for the restaurant review data from the API\n",
    "\n",
    "You've done this for the Businesses, now you need to do this for reviews. You will follow the same process, but your functions will be specific to reviews."
   ]
  },
  {
   "cell_type": "code",
   "execution_count": null,
   "metadata": {},
   "outputs": [],
   "source": [
    "# write a SQL query to pull back all of the business ids \n",
    "# you will need these ids to pull back the reviews for each restaurant"
   ]
  },
  {
   "cell_type": "code",
   "execution_count": null,
   "metadata": {},
   "outputs": [],
   "source": [
    "# write a function that takes a business id \n",
    "# and makes a call to the API for reivews\n"
   ]
  },
  {
   "cell_type": "code",
   "execution_count": null,
   "metadata": {},
   "outputs": [],
   "source": [
    "# Write a function to parse out the relevant information from the reviews"
   ]
  },
  {
   "cell_type": "code",
   "execution_count": null,
   "metadata": {},
   "outputs": [],
   "source": [
    "# write a function to insert the parsed data into the reviews table"
   ]
  },
  {
   "cell_type": "code",
   "execution_count": null,
   "metadata": {},
   "outputs": [],
   "source": [
    "# combine the functions above into a single script  "
   ]
  },
  {
   "cell_type": "markdown",
   "metadata": {},
   "source": [
    "## Part 5 -  Write SQL queries that will answer the questions posed. \n",
    "\n",
    "Now that your data is in the DB, you can answer the questions. Write SQL querires that will answer the questions. **Do not use Pandas in this lab**"
   ]
  },
  {
   "cell_type": "code",
   "execution_count": null,
   "metadata": {},
   "outputs": [],
   "source": [
    "# create connection"
   ]
  },
  {
   "cell_type": "code",
   "execution_count": null,
   "metadata": {},
   "outputs": [],
   "source": [
    "# execute SQL queries"
   ]
  },
  {
   "cell_type": "code",
   "execution_count": null,
   "metadata": {},
   "outputs": [],
   "source": []
  },
  {
   "cell_type": "markdown",
   "metadata": {},
   "source": [
    "# Extra Reference help"
   ]
  },
  {
   "cell_type": "markdown",
   "metadata": {},
   "source": [
    "###  Pagination\n",
    "\n",
    "Returning to the Yelp API, the [documentation](https://www.yelp.com/developers/documentation/v3/business_search) also provides us details regarding the API limits. These often include details about the number of requests a user is allowed to make within a specified time limit and the maximum number of results to be returned. In this case, we are told that any request has a maximum of 50 results per request and defaults to 20. Furthermore, any search will be limited to a total of 1000 results. To retrieve all 1000 of these results, we would have to page through the results piece by piece, retriving 50 at a time. Processes such as these are often refered to as pagination.\n",
    "\n",
    "Now that you have an initial response, you can examine the contents of the json container. For example, you might start with ```response.json().keys()```. Here, you'll see a key for `'total'`, which tells you the full number of matching results given your query parameters. Write a loop (or ideally a function) which then makes successive API calls using the offset parameter to retrieve all of the results (or 5000 for a particularly large result set) for the original query. As you do this, be mindful of how you store the data. \n",
    "\n",
    "**Note: be mindful of the API rate limits. You can only make 5000 requests per day, and APIs can make requests too fast. Start prototyping small before running a loop that could be faulty. You can also use time.sleep(n) to add delays. For more details see https://www.yelp.com/developers/documentation/v3/rate_limiting.**"
   ]
  },
  {
   "cell_type": "markdown",
   "metadata": {},
   "source": [
    "***Below is sample code that you can use to help you deal with the pagination parameter and bring all of the functions together.***\n",
    "\n",
    "\n",
    "***Also, something might cause your code to break while it is running. You don't want to constantly repull the same data when this happens, so you should insert the data into the database as you call and parse it, not after you have all of the data***\n"
   ]
  },
  {
   "cell_type": "code",
   "execution_count": null,
   "metadata": {},
   "outputs": [],
   "source": [
    "def yelp_call(url_params, api_key):\n",
    "    # your code to make the yelp call\n",
    "    return data"
   ]
  },
  {
   "cell_type": "code",
   "execution_count": null,
   "metadata": {},
   "outputs": [],
   "source": [
    "def parse_results(results):\n",
    "    # your code to parse the result to make them easier to insert into the DB\n",
    "    return parsed_results"
   ]
  },
  {
   "cell_type": "code",
   "execution_count": null,
   "metadata": {},
   "outputs": [],
   "source": [
    "def db_insert(cnx, cursor, parsed results):\n",
    "    # your code to insert and commit the results\n",
    "    # I would create the connection and cursor outside of this function and then pass it through"
   ]
  },
  {
   "cell_type": "code",
   "execution_count": null,
   "metadata": {},
   "outputs": [],
   "source": [
    "# create a variable  to keep track of which result you are in. \n",
    "cur = 0\n",
    "\n",
    "#set up a while loop to go through and grab the result \n",
    "while cur < num and cur < 1000:\n",
    "    #set the offset parameter to be where you currently are in the results \n",
    "    url_params['offset'] = cur\n",
    "    #make your API call with the new offset number\n",
    "    results = yelp_call(url_params, api_key)\n",
    "    \n",
    "    #after you get your results you can now use your function to parse those results\n",
    "    parsed_results = parse_results(results)\n",
    "    \n",
    "    # use your function to insert your parsed results into the db\n",
    "    db_insert(parsed_results)\n",
    "    #increment the counter by 50 to move on to the next results\n",
    "    cur += 50"
   ]
  },
  {
   "cell_type": "code",
   "execution_count": null,
   "metadata": {},
   "outputs": [],
   "source": []
  }
 ],
 "metadata": {
  "kernelspec": {
   "display_name": "Python 3",
   "language": "python",
   "name": "python3"
  },
  "language_info": {
   "codemirror_mode": {
    "name": "ipython",
    "version": 3
   },
   "file_extension": ".py",
   "mimetype": "text/x-python",
   "name": "python",
   "nbconvert_exporter": "python",
   "pygments_lexer": "ipython3",
   "version": "3.7.4"
  },
  "toc": {
   "base_numbering": 1,
   "nav_menu": {},
   "number_sections": false,
   "sideBar": true,
   "skip_h1_title": false,
   "title_cell": "Table of Contents",
   "title_sidebar": "Contents",
   "toc_cell": false,
   "toc_position": {},
   "toc_section_display": true,
   "toc_window_display": false
  }
 },
 "nbformat": 4,
 "nbformat_minor": 4
}
