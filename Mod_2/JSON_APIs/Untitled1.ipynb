{
 "cells": [
  {
   "cell_type": "code",
   "execution_count": 11,
   "metadata": {},
   "outputs": [
    {
     "name": "stdout",
     "output_type": "stream",
     "text": [
      "50\n"
     ]
    }
   ],
   "source": [
    "import requests\n",
    "import json\n",
    "from bs4 import BeautifulSoup as BS\n",
    "\n",
    "url=\"https://www.imdb.com/search/title/?title_type=feature&release_date=2017-01-01,2019-12-31&genres=comedy&countries=us&sort=boxoffice_gross_us,desc&view=advanced\"\n",
    "response = requests.get(url)\n",
    "\n",
    "soup = BS(response.text, 'html.parser')\n",
    "num_votes_visible = soup.find_all('p', class_='sort-num_votes-visible')\n",
    "print(len(num_votes_visible)"
   ]
  },
  {
   "cell_type": "code",
   "execution_count": null,
   "metadata": {},
   "outputs": [],
   "source": []
  },
  {
   "cell_type": "code",
   "execution_count": 13,
   "metadata": {},
   "outputs": [
    {
     "name": "stdout",
     "output_type": "stream",
     "text": [
      "['220734', '608,581,744', '136647', '433,033,071', '264344', '404,515,480', '514091', '389,813,101', '427421', '324,591,735', '522055', '315,058,289', '99659', '264,624,300', '269175', '216,648,740', '107184', '201,091,711', '121649', '175,750,384', '98353', '175,003,033', '113815', '174,532,921', '64135', '171,958,438', '47300', '167,510,016', '32097', '158,141,960', '64363', '152,901,115', '105990', '144,105,346', '196240', '140,371,656', '157059', '140,218,711', '272466', '135,371,627', '66651', '120,634,935', '29931', '115,253,424', '31167', '115,171,585', '34615', '108,252,517', '41917', '105,806,508', '48970', '104,897,530', '53306', '104,029,443', '244487', '100,234,838', '59480', '99,215,042', '50885', '86,089,513', '266126', '85,080,171', '42753', '84,410,380', '27717', '83,240,103', '30255', '80,553,967', '77251', '79,800,736', '28240', '77,339,130', '169875', '75,468,583', '23007', '73,921,000', '2899', '73,257,045', '35848', '72,110,659', '176416', '69,179,066', '31725', '69,056,735', '21315', '68,566,296', '37796', '68,549,695', '60917', '67,363,237', '58857', '64,508,620', '61608', '59,839,515', '20277', '59,281,555', '146477', '58,060,186', '14836', '54,611,903']\n"
     ]
    }
   ],
   "source": [
    "box_office = []\n",
    "for result in num_votes_visible:\n",
    "    for x in range(0, 1000):\n",
    "        try: \n",
    "            i = (result.find_all('span')[x])\n",
    "            #ids.append(i['data-value'])\n",
    "            box_office.append(i['data-value'])\n",
    "        except:\n",
    "            continue\n",
    "print(box_office)"
   ]
  },
  {
   "cell_type": "code",
   "execution_count": 6,
   "metadata": {},
   "outputs": [
    {
     "name": "stdout",
     "output_type": "stream",
     "text": [
      "['608,581,744', '433,033,071', '404,515,480', '389,813,101', '324,591,735', '315,058,289', '264,624,300', '216,648,740', '201,091,711', '175,750,384', '175,003,033', '174,532,921', '171,958,438', '167,510,016', '158,141,960', '152,901,115', '144,105,346', '140,371,656', '140,218,711', '135,371,627', '120,634,935', '115,253,424', '115,171,585', '108,252,517', '105,806,508', '104,897,530', '104,029,443', '100,234,838', '99,215,042', '86,089,513', '85,080,171', '84,410,380', '83,240,103', '80,553,967', '79,800,736', '77,339,130', '75,468,583', '73,921,000', '73,257,045', '72,110,659', '69,179,066', '69,056,735', '68,566,296', '68,549,695', '67,363,237', '64,508,620', '59,839,515', '59,281,555', '58,060,186', '54,611,903']\n"
     ]
    }
   ],
   "source": [
    "odd_ids = []\n",
    "odd = box_office[1::2]\n",
    "print(odd)"
   ]
  },
  {
   "cell_type": "code",
   "execution_count": null,
   "metadata": {},
   "outputs": [],
   "source": []
  },
  {
   "cell_type": "code",
   "execution_count": 9,
   "metadata": {},
   "outputs": [
    {
     "data": {
      "text/plain": [
       "'608,581,744'"
      ]
     },
     "execution_count": 9,
     "metadata": {},
     "output_type": "execute_result"
    }
   ],
   "source": [
    "odd[0]"
   ]
  },
  {
   "cell_type": "code",
   "execution_count": 59,
   "metadata": {},
   "outputs": [
    {
     "ename": "TypeError",
     "evalue": "'builtin_function_or_method' object is not iterable",
     "output_type": "error",
     "traceback": [
      "\u001b[0;31m---------------------------------------------------------------------------\u001b[0m",
      "\u001b[0;31mTypeError\u001b[0m                                 Traceback (most recent call last)",
      "\u001b[0;32m<ipython-input-59-e8bf50c7cfaf>\u001b[0m in \u001b[0;36m<module>\u001b[0;34m\u001b[0m\n\u001b[1;32m      1\u001b[0m \u001b[0mdictionary\u001b[0m \u001b[0;34m=\u001b[0m \u001b[0;34m{\u001b[0m\u001b[0;36m1\u001b[0m\u001b[0;34m:\u001b[0m\u001b[0;36m1\u001b[0m\u001b[0;34m,\u001b[0m \u001b[0;36m2\u001b[0m\u001b[0;34m:\u001b[0m\u001b[0;36m2\u001b[0m\u001b[0;34m,\u001b[0m \u001b[0;36m3\u001b[0m\u001b[0;34m:\u001b[0m\u001b[0;36m3\u001b[0m\u001b[0;34m,\u001b[0m \u001b[0;36m4\u001b[0m\u001b[0;34m:\u001b[0m\u001b[0;36m4\u001b[0m\u001b[0;34m}\u001b[0m\u001b[0;34m\u001b[0m\u001b[0;34m\u001b[0m\u001b[0m\n\u001b[0;32m----> 2\u001b[0;31m \u001b[0mprint\u001b[0m\u001b[0;34m(\u001b[0m\u001b[0mlist\u001b[0m\u001b[0;34m(\u001b[0m\u001b[0mdictionary\u001b[0m\u001b[0;34m.\u001b[0m\u001b[0mvalues\u001b[0m\u001b[0;34m)\u001b[0m\u001b[0;34m)\u001b[0m\u001b[0;34m\u001b[0m\u001b[0;34m\u001b[0m\u001b[0m\n\u001b[0m",
      "\u001b[0;31mTypeError\u001b[0m: 'builtin_function_or_method' object is not iterable"
     ]
    }
   ],
   "source": []
  },
  {
   "cell_type": "code",
   "execution_count": null,
   "metadata": {},
   "outputs": [],
   "source": []
  }
 ],
 "metadata": {
  "kernelspec": {
   "display_name": "Python 3",
   "language": "python",
   "name": "python3"
  },
  "language_info": {
   "codemirror_mode": {
    "name": "ipython",
    "version": 3
   },
   "file_extension": ".py",
   "mimetype": "text/x-python",
   "name": "python",
   "nbconvert_exporter": "python",
   "pygments_lexer": "ipython3",
   "version": "3.7.4"
  }
 },
 "nbformat": 4,
 "nbformat_minor": 4
}
