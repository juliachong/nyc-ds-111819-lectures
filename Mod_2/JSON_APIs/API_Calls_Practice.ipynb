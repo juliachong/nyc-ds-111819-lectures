{
 "cells": [
  {
   "cell_type": "markdown",
   "metadata": {},
   "source": [
    "## Starting Off\n",
    "\n",
    "Think of one lingering quetion you have about SQL and sedd it to our slack class channel. "
   ]
  },
  {
   "cell_type": "markdown",
   "metadata": {},
   "source": [
    "# Using APIs and JSON Data"
   ]
  },
  {
   "cell_type": "markdown",
   "metadata": {},
   "source": [
    "## Objectives\n",
    "You will be able to:\n",
    "* Make an API call to Yelp "
   ]
  },
  {
   "cell_type": "markdown",
   "metadata": {},
   "source": [
    "\n",
    "## Agenda\n",
    "\n",
    "* Build up an API Call\n",
    "* Look at the results\n"
   ]
  },
  {
   "cell_type": "code",
   "execution_count": 3,
   "metadata": {},
   "outputs": [],
   "source": [
    "import requests\n",
    "import json"
   ]
  },
  {
   "cell_type": "markdown",
   "metadata": {},
   "source": [
    "For more information about the request package you can use the following resources:\n",
    "\n",
    "**Tutorial:** https://realpython.com/python-requests/\n",
    "\n",
    "**Package Documentation:** https://requests.readthedocs.io/en/master/"
   ]
  },
  {
   "cell_type": "markdown",
   "metadata": {},
   "source": [
    "![](quota.png)"
   ]
  },
  {
   "cell_type": "markdown",
   "metadata": {},
   "source": [
    "Let's do a search of businesses on the Yelp API.  "
   ]
  },
  {
   "cell_type": "code",
   "execution_count": 5,
   "metadata": {},
   "outputs": [],
   "source": [
    "# set theurl and endpoint we want to hit\n",
    "url = 'https://api.yelp.com/v3/businesses/search'"
   ]
  },
  {
   "cell_type": "markdown",
   "metadata": {},
   "source": [
    "Now that you have an API key, let's enter set that information here so that we can do our searches. Once you have the `api_key` variable, place int in our header."
   ]
  },
  {
   "cell_type": "code",
   "execution_count": 6,
   "metadata": {},
   "outputs": [],
   "source": [
    "client_id = 'V7jC9R0wg8iyi0uprqrIDQ'\n",
    "api_key = '__RrqPgntWvjGhyjuZrEW4sn6o3g-zID39CzFyAO8qkTIUgxGBvDdeB3_v3_qrBeCZ4QyimcSchxfoaQxx9LO-Kff6XNsoXvlFAXZMuOu66CyUS__M7xA4oZsSjpXXYx'"
   ]
  },
  {
   "cell_type": "code",
   "execution_count": null,
   "metadata": {},
   "outputs": [],
   "source": []
  },
  {
   "cell_type": "code",
   "execution_count": 7,
   "metadata": {},
   "outputs": [],
   "source": [
    "# go to how to authenticate on yelp\n",
    "headers = {\n",
    "        'Authorization': 'Bearer {}'.format(api_key),\n",
    "    }\n"
   ]
  },
  {
   "cell_type": "markdown",
   "metadata": {},
   "source": [
    "We now need to determine our parameters we want to pass.  \n",
    "\n",
    "You must give a specific search term, location and one other paramter to limit your search. \n",
    "\n",
    "Remember you can search the API documenation to find another parameter to limit your search.  \n",
    "https://www.yelp.com/developers/documentation/v3/get_started"
   ]
  },
  {
   "cell_type": "code",
   "execution_count": 121,
   "metadata": {},
   "outputs": [],
   "source": [
    "# what type of business do you want to search\n",
    "term = 'hot fudge'\n",
    "\n",
    "#where do you want to perform this search\n",
    "location = 'Financial District'\n",
    "\n",
    "# what is your other parameter you want to search against\n",
    "radius = 1000"
   ]
  },
  {
   "cell_type": "code",
   "execution_count": 123,
   "metadata": {},
   "outputs": [],
   "source": [
    "\n",
    "url_params = {\n",
    "                'term': term.replace(' ', '+'),\n",
    "                'location': location.replace(' ', '+'),\n",
    "                'radius' : radius\n",
    "            }"
   ]
  },
  {
   "cell_type": "markdown",
   "metadata": {},
   "source": [
    "Now that we have all of the parts necessary for an API call, let's put them together.  "
   ]
  },
  {
   "cell_type": "code",
   "execution_count": 124,
   "metadata": {},
   "outputs": [],
   "source": [
    "response = requests.get(url, headers=headers, params=url_params)"
   ]
  },
  {
   "cell_type": "code",
   "execution_count": 128,
   "metadata": {},
   "outputs": [
    {
     "data": {
      "text/plain": [
       "424"
      ]
     },
     "execution_count": 128,
     "metadata": {},
     "output_type": "execute_result"
    }
   ],
   "source": [
    "data['total']"
   ]
  },
  {
   "cell_type": "markdown",
   "metadata": {},
   "source": [
    "\n",
    "## The Response\n",
    "\n",
    "The response of a GET request often has some valuable information, known as a payload, in the message body. Using the attributes and methods of Response, you can view the payload in a variety of different formats.\n",
    "\n",
    "To see the response’s content in bytes, you use `.content`\n",
    "\n",
    "You will often want to convert them into a string using a character encoding such as UTF-8. Response will do that for you when you access `.text`\n",
    "\n",
    "The response is actually serialized JSON content. To get a dictionary, you could take the str you retrieved from `.text` and deserialize it using `json.loads()`. However, a simpler way to accomplish this task is to use `.json()`:"
   ]
  },
  {
   "cell_type": "code",
   "execution_count": 1,
   "metadata": {},
   "outputs": [],
   "source": [
    "#json.loads(response.text)\n"
   ]
  },
  {
   "cell_type": "code",
   "execution_count": 2,
   "metadata": {},
   "outputs": [],
   "source": [
    "#response.json()"
   ]
  },
  {
   "cell_type": "markdown",
   "metadata": {},
   "source": [
    "Now let's go a bit further and start to preview what's stored in each of the values for these keys.\n"
   ]
  },
  {
   "cell_type": "code",
   "execution_count": 64,
   "metadata": {},
   "outputs": [],
   "source": [
    "data = response.json()"
   ]
  },
  {
   "cell_type": "code",
   "execution_count": 65,
   "metadata": {},
   "outputs": [
    {
     "name": "stdout",
     "output_type": "stream",
     "text": [
      "businesses\n",
      "<class 'list'>\n",
      "\n",
      "\n",
      "\n",
      "total\n",
      "<class 'int'>\n",
      "\n",
      "\n",
      "\n",
      "region\n",
      "<class 'dict'>\n",
      "\n",
      "\n",
      "\n"
     ]
    }
   ],
   "source": [
    "for key in data.keys():\n",
    "    print(key)\n",
    "    value = response.json()[key] #Use standard dictionary formatting\n",
    "    print(type(value)) #What type is it?\n",
    "    print('\\n\\n') #Seperate out data"
   ]
  },
  {
   "cell_type": "code",
   "execution_count": 71,
   "metadata": {},
   "outputs": [
    {
     "data": {
      "text/plain": [
       "{'id': 'v1oSEKjF7EQGLQHR-zVPtw',\n",
       " 'alias': 'blink-fitness-harlem-116th-new-york',\n",
       " 'name': 'Blink Fitness - Harlem 116th',\n",
       " 'image_url': 'https://s3-media2.fl.yelpcdn.com/bphoto/Q1m6xa3c46BIUOnAmSO3DA/o.jpg',\n",
       " 'is_closed': False,\n",
       " 'url': 'https://www.yelp.com/biz/blink-fitness-harlem-116th-new-york?adjust_creative=V7jC9R0wg8iyi0uprqrIDQ&utm_campaign=yelp_api_v3&utm_medium=api_v3_business_search&utm_source=V7jC9R0wg8iyi0uprqrIDQ',\n",
       " 'review_count': 79,\n",
       " 'categories': [{'alias': 'gyms', 'title': 'Gyms'},\n",
       "  {'alias': 'healthtrainers', 'title': 'Trainers'}],\n",
       " 'rating': 3.0,\n",
       " 'coordinates': {'latitude': 40.801442, 'longitude': -73.947629},\n",
       " 'transactions': [],\n",
       " 'location': {'address1': '27 W 116th Street',\n",
       "  'address2': '',\n",
       "  'address3': '',\n",
       "  'city': 'New York',\n",
       "  'zip_code': '10026',\n",
       "  'country': 'US',\n",
       "  'state': 'NY',\n",
       "  'display_address': ['27 W 116th Street', 'New York, NY 10026']},\n",
       " 'phone': '+16465615454',\n",
       " 'display_phone': '(646) 561-5454',\n",
       " 'distance': 1658.1750202228752}"
      ]
     },
     "execution_count": 71,
     "metadata": {},
     "output_type": "execute_result"
    }
   ],
   "source": [
    "data['businesses'][3] # how many businesses met your search parameters."
   ]
  },
  {
   "cell_type": "markdown",
   "metadata": {},
   "source": [
    "Let's make sure our data is as expected by looking at a couple of different business by taking a slice of the data. "
   ]
  },
  {
   "cell_type": "code",
   "execution_count": 73,
   "metadata": {},
   "outputs": [
    {
     "data": {
      "text/plain": [
       "{'id': 'v1oSEKjF7EQGLQHR-zVPtw',\n",
       " 'alias': 'blink-fitness-harlem-116th-new-york',\n",
       " 'name': 'Blink Fitness - Harlem 116th',\n",
       " 'image_url': 'https://s3-media2.fl.yelpcdn.com/bphoto/Q1m6xa3c46BIUOnAmSO3DA/o.jpg',\n",
       " 'is_closed': False,\n",
       " 'url': 'https://www.yelp.com/biz/blink-fitness-harlem-116th-new-york?adjust_creative=V7jC9R0wg8iyi0uprqrIDQ&utm_campaign=yelp_api_v3&utm_medium=api_v3_business_search&utm_source=V7jC9R0wg8iyi0uprqrIDQ',\n",
       " 'review_count': 79,\n",
       " 'categories': [{'alias': 'gyms', 'title': 'Gyms'},\n",
       "  {'alias': 'healthtrainers', 'title': 'Trainers'}],\n",
       " 'rating': 3.0,\n",
       " 'coordinates': {'latitude': 40.801442, 'longitude': -73.947629},\n",
       " 'transactions': [],\n",
       " 'location': {'address1': '27 W 116th Street',\n",
       "  'address2': '',\n",
       "  'address3': '',\n",
       "  'city': 'New York',\n",
       "  'zip_code': '10026',\n",
       "  'country': 'US',\n",
       "  'state': 'NY',\n",
       "  'display_address': ['27 W 116th Street', 'New York, NY 10026']},\n",
       " 'phone': '+16465615454',\n",
       " 'display_phone': '(646) 561-5454',\n",
       " 'distance': 1658.1750202228752}"
      ]
     },
     "execution_count": 73,
     "metadata": {},
     "output_type": "execute_result"
    }
   ],
   "source": [
    "data['businesses'][3]\n",
    "\n"
   ]
  },
  {
   "cell_type": "markdown",
   "metadata": {},
   "source": [
    "There are a lot of key-value pairs for each business. Many of which we do not care about. Let's create a simple parser of this data that will return a tuple with the name, display_address, and one other data point of your choice. "
   ]
  },
  {
   "cell_type": "code",
   "execution_count": 107,
   "metadata": {},
   "outputs": [
    {
     "data": {
      "text/plain": [
       "{'id': 'q4j0tW7GczGRPQ03i8YO9w',\n",
       " 'alias': 'pretty-hard-body-new-york-2',\n",
       " 'name': 'Pretty Hard Body',\n",
       " 'image_url': 'https://s3-media2.fl.yelpcdn.com/bphoto/itElXYd0Gc2kIlo6zhE1aQ/o.jpg',\n",
       " 'is_closed': False,\n",
       " 'url': 'https://www.yelp.com/biz/pretty-hard-body-new-york-2?adjust_creative=V7jC9R0wg8iyi0uprqrIDQ&utm_campaign=yelp_api_v3&utm_medium=api_v3_business_search&utm_source=V7jC9R0wg8iyi0uprqrIDQ',\n",
       " 'review_count': 7,\n",
       " 'categories': [{'alias': 'healthtrainers', 'title': 'Trainers'},\n",
       "  {'alias': 'cardioclasses', 'title': 'Cardio Classes'}],\n",
       " 'rating': 5.0,\n",
       " 'coordinates': {'latitude': 40.80218, 'longitude': -73.95051},\n",
       " 'transactions': [],\n",
       " 'location': {'address1': '108 W 116th St',\n",
       "  'address2': 'Ste 1A',\n",
       "  'address3': '',\n",
       "  'city': 'New York',\n",
       "  'zip_code': '10026',\n",
       "  'country': 'US',\n",
       "  'state': 'NY',\n",
       "  'display_address': ['108 W 116th St', 'Ste 1A', 'New York, NY 10026']},\n",
       " 'phone': '+12126626262',\n",
       " 'display_phone': '(212) 662-6262',\n",
       " 'distance': 1575.6999920941744}"
      ]
     },
     "execution_count": 107,
     "metadata": {},
     "output_type": "execute_result"
    }
   ],
   "source": [
    "business = data['businesses'][10]\n",
    "business"
   ]
  },
  {
   "cell_type": "code",
   "execution_count": 89,
   "metadata": {},
   "outputs": [],
   "source": [
    "biz_tuple = (business['name'], ' '.join(business['location']['display_address']), business['rating'])"
   ]
  },
  {
   "cell_type": "code",
   "execution_count": 94,
   "metadata": {},
   "outputs": [
    {
     "data": {
      "text/plain": [
       "('Pretty Hard Body', '108 W 116th St Ste 1A New York, NY 10026', 5.0)"
      ]
     },
     "execution_count": 94,
     "metadata": {},
     "output_type": "execute_result"
    }
   ],
   "source": [
    "biz_tuple"
   ]
  },
  {
   "cell_type": "markdown",
   "metadata": {},
   "source": [
    "Now that we know how to do this for one business. Let create a function that recieves the list of businesses and returns a list of tuples with the important information."
   ]
  },
  {
   "cell_type": "code",
   "execution_count": 117,
   "metadata": {},
   "outputs": [],
   "source": [
    "def parse_data(data):\n",
    "    # create a container to hold our parsed data\n",
    "    container = []\n",
    "    \n",
    "    # loop through our business and parse each individual business\n",
    "    for business in data:\n",
    "        biz_tuple = (business['name'], ' '.join(business['location']['display_address']), business['rating'])\n",
    "        container.append(biz_tuple)\n",
    "    \n",
    "    return container\n",
    "    # in the loop, add each individual parsed parsed business to our data container\n",
    "    \n",
    "    # return the container with all of the parsed results"
   ]
  },
  {
   "cell_type": "code",
   "execution_count": 120,
   "metadata": {},
   "outputs": [
    {
     "data": {
      "text/plain": [
       "[('Blink Fitness - 125th', '301 W 125th St New York, NY 10027', 3.0),\n",
       " ('New York Sports Clubs', '303 W 145th St New York, NY 10039', 2.0),\n",
       " ('Benswic, Inc', '2473 Frederick Douglass Blvd Fl 1 New York, NY 10027', 5.0),\n",
       " ('Blink Fitness - Harlem 116th', '27 W 116th Street New York, NY 10026', 3.0),\n",
       " ('JTW Fit', '2235 Adam Clayton Powell Jr Blvd New York, NY 10027', 5.0),\n",
       " ('New York Sports Clubs',\n",
       "  '2311 Frederick Douglas Blvd New York, NY 10027',\n",
       "  2.5),\n",
       " ('Liberated Fitness', '1005 Columbus Ave New York, NY 10025', 4.5),\n",
       " ('Planet Fitness', '208 W 125th St New York, NY 10027', 2.5),\n",
       " ('befitnyc', '2726 Broadway Fl 2 New York, NY 10025', 4.5),\n",
       " ('Harlem Branch YMCA', '180 W 135th St New York, NY 10030', 3.0),\n",
       " ('Pretty Hard Body', '108 W 116th St Ste 1A New York, NY 10026', 5.0),\n",
       " ('Columbia University Dodge Fitness Center',\n",
       "  'Columbia University 3030 Broadway New York, NY 10027',\n",
       "  2.0),\n",
       " ('iLoveKickboxing- Harlem', '47 West 116th St New York, NY 10026', 3.5),\n",
       " ('The Gym 105', '237 W 105th St Front 1 New York, NY 10025', 5.0),\n",
       " ('Hansborough Recreation Center - NYC Parks Dept.',\n",
       "  '35 W 134th St New York, NY 10037',\n",
       "  4.0),\n",
       " ('Harlem Cycle', '2350 Adam Clayton Powell Blvd New York, NY 10030', 5.0),\n",
       " ('Anytime Fitness',\n",
       "  '1 Towne Center Dr Ste 1008/1009 Cliffside Park, NJ 07010',\n",
       "  4.5),\n",
       " ('BodyStrength Fitness', '250 W 106th St Fl 2 New York, NY 10025', 3.5),\n",
       " ('Link Fitness', '679 Riverside Dr Manhattan, NY 10031', 3.5),\n",
       " ('Planet Fitness', '3799 Broadway New York, NY 10032', 2.5)]"
      ]
     },
     "execution_count": 120,
     "metadata": {},
     "output_type": "execute_result"
    }
   ],
   "source": [
    "parse_data(data['businesses'])"
   ]
  },
  {
   "cell_type": "code",
   "execution_count": null,
   "metadata": {},
   "outputs": [],
   "source": []
  }
 ],
 "metadata": {
  "kernelspec": {
   "display_name": "Python 3",
   "language": "python",
   "name": "python3"
  },
  "language_info": {
   "codemirror_mode": {
    "name": "ipython",
    "version": 3
   },
   "file_extension": ".py",
   "mimetype": "text/x-python",
   "name": "python",
   "nbconvert_exporter": "python",
   "pygments_lexer": "ipython3",
   "version": "3.7.4"
  }
 },
 "nbformat": 4,
 "nbformat_minor": 4
}
